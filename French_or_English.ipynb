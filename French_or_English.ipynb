{
  "nbformat": 4,
  "nbformat_minor": 0,
  "metadata": {
    "colab": {
      "provenance": [],
      "authorship_tag": "ABX9TyNp2z7dBvO9UudasZzIzWmK",
      "include_colab_link": true
    },
    "kernelspec": {
      "name": "python3",
      "display_name": "Python 3"
    },
    "language_info": {
      "name": "python"
    }
  },
  "cells": [
    {
      "cell_type": "markdown",
      "metadata": {
        "id": "view-in-github",
        "colab_type": "text"
      },
      "source": [
        "<a href=\"https://colab.research.google.com/github/Shane12344321/IoTClub/blob/main/French_or_English.ipynb\" target=\"_parent\"><img src=\"https://colab.research.google.com/assets/colab-badge.svg\" alt=\"Open In Colab\"/></a>"
      ]
    },
    {
      "cell_type": "code",
      "execution_count": 13,
      "metadata": {
        "colab": {
          "base_uri": "https://localhost:8080/"
        },
        "id": "TKBsfX-k7QT_",
        "outputId": "d2ac6c23-c5c8-4c95-9d62-90c427a40ec8"
      },
      "outputs": [
        {
          "output_type": "stream",
          "name": "stdout",
          "text": [
            "2\n",
            "Enter sentences\n",
            "bonjour je m'apelle Shane\n",
            "ca va bien merci\n",
            "French\n"
          ]
        }
      ],
      "source": [
        "def detect_language():\n",
        "\n",
        "\n",
        "    N = 0\n",
        "    while N < 1 or N >  10000:\n",
        "      N = int(input())\n",
        "    count_t = 0\n",
        "    count_s = 0\n",
        "\n",
        "    print(\"Enter sentences\")\n",
        "    for i in range(N):\n",
        "\n",
        "        lineLen = 0\n",
        "        while lineLen == 0:\n",
        "          line = input()\n",
        "          lineLen = len(line)\n",
        "\n",
        "        count_t += line.lower().count('t')\n",
        "        count_s += line.lower().count('s')\n",
        "\n",
        "    if count_t > count_s:\n",
        "        print(\"English\")\n",
        "    elif count_t < count_s:\n",
        "        print(\"French\")\n",
        "    else:\n",
        "      print(\"Cannot be determined.\")\n",
        "\n",
        "# Run the function\n",
        "detect_language()\n"
      ]
    }
  ]
}